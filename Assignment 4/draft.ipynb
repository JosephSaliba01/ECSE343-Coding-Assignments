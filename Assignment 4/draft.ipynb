{
 "cells": [
  {
   "cell_type": "code",
   "execution_count": 7,
   "metadata": {},
   "outputs": [
    {
     "name": "stdout",
     "output_type": "stream",
     "text": [
      "s (203, 257)\n",
      "before (203, 257)\n",
      "after (203, 257)\n",
      "hjhj [[0. 0. 0. ... 0. 0. 0.]\n",
      " [0. 0. 0. ... 0. 0. 0.]\n",
      " [0. 0. 0. ... 0. 0. 0.]\n",
      " ...\n",
      " [0. 0. 0. ... 0. 0. 0.]\n",
      " [0. 0. 0. ... 0. 0. 0.]\n",
      " [0. 0. 0. ... 0. 0. 0.]]\n",
      "kernel (205, 259)\n"
     ]
    }
   ],
   "source": [
    "from PIL import Image,ImageDraw,ImageOps,ImageFilter\n",
    "import numpy as np \n",
    "from scipy import fftpack\n",
    "\n",
    "## STEP 1 ##\n",
    "im1=Image.open(\"pika.jpeg\")\n",
    "im1=ImageOps.grayscale(im1)\n",
    "im1.show()\n",
    "print(\"s\",im1.size)\n",
    "## working on this image array\n",
    "im_W=np.array(im1).T\n",
    "\n",
    "print(\"before\",im_W.shape)\n",
    "if(im_W.shape[0]%2==0):\n",
    "    im_W=np.pad(im_W, ((1,0),(0,0)), 'constant')\n",
    "\n",
    "if(im_W.shape[1]%2==0):\n",
    "    im_W=np.pad(im_W, ((0,0),(1,0)), 'constant')\n",
    "\n",
    "print(\"after\",im_W.shape)\n",
    "Boxblur=np.ones((3, 3)) / 9\n",
    "dim=Boxblur.shape[0]\n",
    "\n",
    "##padding before frequency domain multipication\n",
    "pad_size=(Boxblur.shape[0]-1)/2\n",
    "pad_size=int(pad_size)\n",
    "##padded the image(starts here)\n",
    "\n",
    "p_im=np.pad(im_W, ((pad_size,pad_size),(pad_size,pad_size)), 'constant')\n",
    "t_b=(p_im.shape[0]-dim)/2\n",
    "l_r=(p_im.shape[1]-dim)/2\n",
    "t_b=int(t_b)\n",
    "l_r=int(l_r)\n",
    "\n",
    "##padded the image(ends here)\n",
    "\n",
    "## padded the kernel(starts here)\n",
    "k_im=np.pad(Boxblur, ((t_b,t_b),(l_r,l_r)), 'constant')\n",
    "print(\"hjhj\",k_im)\n",
    "print(\"kernel\",k_im.shape)\n",
    "\n",
    "##fourier transforms image and kernel\n",
    "fft_im = fftpack.fftshift(fftpack.fft2(p_im))\n",
    "fft_k  = fftpack.fftshift(fftpack.fft2(k_im))\n",
    "con_in_f=fft_im*fft_k\n",
    "ifft2 = abs(fftpack.ifft2(fftpack.ifftshift(con_in_f)))\n",
    "convolved=(np.log(abs(ifft2))* 255 / np.amax(np.log(abs(ifft2)))).astype(np.uint8)\n",
    "final=Image.fromarray(convolved.T)\n",
    "final.show()\n",
    "u=im1.filter(ImageFilter.Kernel((3,3), [1/9,1/9,1/9,1/9,1/9,1/9,1/9,1/9,1/9], scale=None, offset=0))\n",
    "u.show()"
   ]
  },
  {
   "cell_type": "code",
   "execution_count": 34,
   "metadata": {},
   "outputs": [
    {
     "name": "stdout",
     "output_type": "stream",
     "text": [
      "[[5. 6. 0. 0. 0. 0. 0. 0. 0. 4.]\n",
      " [8. 9. 0. 0. 0. 0. 0. 0. 0. 7.]\n",
      " [0. 0. 0. 0. 0. 0. 0. 0. 0. 0.]\n",
      " [0. 0. 0. 0. 0. 0. 0. 0. 0. 0.]\n",
      " [0. 0. 0. 0. 0. 0. 0. 0. 0. 0.]\n",
      " [0. 0. 0. 0. 0. 0. 0. 0. 0. 0.]\n",
      " [0. 0. 0. 0. 0. 0. 0. 0. 0. 0.]\n",
      " [0. 0. 0. 0. 0. 0. 0. 0. 0. 0.]\n",
      " [0. 0. 0. 0. 0. 0. 0. 0. 0. 0.]\n",
      " [2. 3. 0. 0. 0. 0. 0. 0. 0. 1.]]\n"
     ]
    }
   ],
   "source": [
    "image_shape = (10, 10)\n",
    "\n",
    "width, height = image_shape\n",
    "\n",
    "blur_kernel2d = np.arange(1, 10).reshape(3, 3)\n",
    "k = blur_kernel2d.shape[0]\n",
    "\n",
    "grid = np.zeros(width * height)\n",
    "\n",
    "padded_grid = np.pad(\n",
    "    np.arange(width * height).reshape(width, height),\n",
    "    (k//2, k//2),\n",
    "    mode='wrap'\n",
    ")\n",
    "\n",
    "strides = np.lib.stride_tricks.sliding_window_view(\n",
    "    padded_grid, (k, k)).reshape(width * height, k ** 2)\n",
    "\n",
    "grid[strides[0]] = blur_kernel2d.flatten()\n",
    "\n",
    "grid = grid.reshape(width, height)\n",
    "\n",
    "print(grid)"
   ]
  },
  {
   "cell_type": "code",
   "execution_count": 35,
   "metadata": {},
   "outputs": [
    {
     "name": "stdout",
     "output_type": "stream",
     "text": [
      "[[ 0  1  2  3  4  5  6  7  8  9]\n",
      " [10 11 12 13 14 15 16 17 18 19]\n",
      " [20 21 22 23 24 25 26 27 28 29]\n",
      " [30 31 32 33 34 35 36 37 38 39]\n",
      " [40 41 42 43 44 45 46 47 48 49]\n",
      " [50 51 52 53 54 55 56 57 58 59]\n",
      " [60 61 62 63 64 65 66 67 68 69]\n",
      " [70 71 72 73 74 75 76 77 78 79]\n",
      " [80 81 82 83 84 85 86 87 88 89]\n",
      " [90 91 92 93 94 95 96 97 98 99]]\n"
     ]
    }
   ],
   "source": [
    "print(np.arange(width * height).reshape(width, height))"
   ]
  },
  {
   "cell_type": "code",
   "execution_count": 37,
   "metadata": {},
   "outputs": [],
   "source": [
    "l_kernel = np.array(\n",
    "    [[ 0, -1,  0],[-1,  4, -1],[ 0, -1,  0]]\n",
    ")"
   ]
  },
  {
   "cell_type": "code",
   "execution_count": null,
   "metadata": {},
   "outputs": [],
   "source": []
  }
 ],
 "metadata": {
  "interpreter": {
   "hash": "a29f59f0c6e0ea1b220c2d7f2d5e9bf2be834826e44e2dd98adf005550ab088d"
  },
  "kernelspec": {
   "display_name": "Python 3.9.6 64-bit",
   "language": "python",
   "name": "python3"
  },
  "language_info": {
   "codemirror_mode": {
    "name": "ipython",
    "version": 3
   },
   "file_extension": ".py",
   "mimetype": "text/x-python",
   "name": "python",
   "nbconvert_exporter": "python",
   "pygments_lexer": "ipython3",
   "version": "3.9.6"
  },
  "orig_nbformat": 4
 },
 "nbformat": 4,
 "nbformat_minor": 2
}
